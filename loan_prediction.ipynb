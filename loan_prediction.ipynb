{
 "cells": [
  {
   "cell_type": "code",
   "execution_count": null,
   "id": "d9fa1413-6c1f-4018-a436-12f266f0e038",
   "metadata": {},
   "outputs": [],
   "source": [
    "# comparative study"
   ]
  },
  {
   "cell_type": "code",
   "execution_count": 27,
   "id": "015b8d7c-9525-4ca7-8621-059bd41ec4ff",
   "metadata": {},
   "outputs": [],
   "source": [
    "\n",
    "import pandas as pd\n",
    "import numpy as np\n",
    "from sklearn.model_selection import train_test_split\n",
    "from sklearn.preprocessing import StandardScaler\n",
    "from sklearn.linear_model import LogisticRegression\n",
    "from sklearn.ensemble import RandomForestClassifier\n",
    "from sklearn.tree import DecisionTreeClassifier\n",
    "from sklearn.neighbors import KNeighborsClassifier\n",
    "from sklearn.svm import SVC\n",
    "from sklearn.metrics import accuracy_score, precision_score, recall_score, f1_score, classification_report, confusion_matrix\n",
    "import matplotlib.pyplot as plt\n",
    "import seaborn as sns\n",
    "\n"
   ]
  },
  {
   "cell_type": "code",
   "execution_count": 28,
   "id": "c1003bea-5989-4be6-84fe-361a80c10a3f",
   "metadata": {},
   "outputs": [],
   "source": [
    "import warnings\n",
    "warnings.filterwarnings('ignore')"
   ]
  },
  {
   "cell_type": "code",
   "execution_count": 30,
   "id": "6b93d419-d8ca-445b-9f44-235ece9c56e6",
   "metadata": {},
   "outputs": [],
   "source": [
    "\n",
    "df = pd.read_csv(\"loan_data.csv\")"
   ]
  },
  {
   "cell_type": "code",
   "execution_count": 31,
   "id": "f00744b9-ef45-4cc5-8116-9a1869a917ce",
   "metadata": {},
   "outputs": [],
   "source": [
    "# Encode target\n",
    "df[\"Loan_Status\"] = df[\"Loan_Status\"].map({\"Y\": 1, \"N\": 0})\n",
    "\n",
    "df = df.dropna()\n",
    "#  Features & Target\n",
    "X = df.drop(\"Loan_Status\", axis=1)\n",
    "y = df[\"Loan_Status\"]\n",
    "\n",
    "# Encode categorical variables\n",
    "X = pd.get_dummies(X, drop_first=True)\n"
   ]
  },
  {
   "cell_type": "code",
   "execution_count": 32,
   "id": "ade0ff79-3de7-4468-b5fa-c6469bd339ec",
   "metadata": {},
   "outputs": [],
   "source": [
    "\n",
    "X_train, X_test, y_train, y_test = train_test_split(X, y, test_size=0.2, random_state=42)\n"
   ]
  },
  {
   "cell_type": "code",
   "execution_count": 33,
   "id": "6715e9d2-7bf0-4311-9a19-021dc33a80c1",
   "metadata": {},
   "outputs": [],
   "source": [
    "\n",
    "scaler = StandardScaler()\n",
    "X_train_scaled = scaler.fit_transform(X_train)\n",
    "X_test_scaled = scaler.transform(X_test)"
   ]
  },
  {
   "cell_type": "code",
   "execution_count": 34,
   "id": "7aedfd1f-1bb3-418d-b5c7-9487b587ae2c",
   "metadata": {},
   "outputs": [
    {
     "name": "stdout",
     "output_type": "stream",
     "text": [
      "\n",
      "Logistic Regression\n",
      "              precision    recall  f1-score   support\n",
      "\n",
      "           0       1.00      0.39      0.56        28\n",
      "           1       0.80      1.00      0.89        68\n",
      "\n",
      "    accuracy                           0.82        96\n",
      "   macro avg       0.90      0.70      0.73        96\n",
      "weighted avg       0.86      0.82      0.79        96\n",
      "\n",
      "Confusion Matrix:\n",
      " [[11 17]\n",
      " [ 0 68]]\n",
      "\n",
      "SVM\n",
      "              precision    recall  f1-score   support\n",
      "\n",
      "           0       0.00      0.00      0.00        28\n",
      "           1       0.71      1.00      0.83        68\n",
      "\n",
      "    accuracy                           0.71        96\n",
      "   macro avg       0.35      0.50      0.41        96\n",
      "weighted avg       0.50      0.71      0.59        96\n",
      "\n",
      "Confusion Matrix:\n",
      " [[ 0 28]\n",
      " [ 0 68]]\n",
      "\n",
      "Decision Tree\n",
      "              precision    recall  f1-score   support\n",
      "\n",
      "           0       0.50      0.57      0.53        28\n",
      "           1       0.81      0.76      0.79        68\n",
      "\n",
      "    accuracy                           0.71        96\n",
      "   macro avg       0.66      0.67      0.66        96\n",
      "weighted avg       0.72      0.71      0.71        96\n",
      "\n",
      "Confusion Matrix:\n",
      " [[16 12]\n",
      " [16 52]]\n",
      "\n",
      "KNN\n",
      "              precision    recall  f1-score   support\n",
      "\n",
      "           0       0.91      0.36      0.51        28\n",
      "           1       0.79      0.99      0.88        68\n",
      "\n",
      "    accuracy                           0.80        96\n",
      "   macro avg       0.85      0.67      0.69        96\n",
      "weighted avg       0.82      0.80      0.77        96\n",
      "\n",
      "Confusion Matrix:\n",
      " [[10 18]\n",
      " [ 1 67]]\n",
      "\n",
      "Random Forest\n",
      "              precision    recall  f1-score   support\n",
      "\n",
      "           0       0.92      0.39      0.55        28\n",
      "           1       0.80      0.99      0.88        68\n",
      "\n",
      "    accuracy                           0.81        96\n",
      "   macro avg       0.86      0.69      0.72        96\n",
      "weighted avg       0.83      0.81      0.78        96\n",
      "\n",
      "Confusion Matrix:\n",
      " [[11 17]\n",
      " [ 1 67]]\n"
     ]
    }
   ],
   "source": [
    "#  Train models\n",
    "models = {\n",
    "    \"Logistic Regression\": LogisticRegression(max_iter=1000),\n",
    "    \"SVM\": SVC(probability=True),\n",
    "    \"Decision Tree\": DecisionTreeClassifier(random_state=42),\n",
    "    \"KNN\": KNeighborsClassifier(),\n",
    "    \"Random Forest\": RandomForestClassifier(n_estimators=100, random_state=42)\n",
    "}\n",
    "\n",
    "results = {}\n",
    "for name, model in models.items():\n",
    "    model.fit(X_train_scaled, y_train)\n",
    "    preds = model.predict(X_test_scaled)\n",
    "    acc = accuracy_score(y_test, preds)\n",
    "    prec = precision_score(y_test, preds)\n",
    "    rec = recall_score(y_test, preds)\n",
    "    f1 = f1_score(y_test, preds)\n",
    "    results[name] = {\"Accuracy\": acc, \"Precision\": prec, \"Recall\": rec, \"F1-Score\": f1}\n",
    "    print(f\"\\n{name}\")\n",
    "    print(classification_report(y_test, preds))\n",
    "    print(\"Confusion Matrix:\\n\", confusion_matrix(y_test, preds))"
   ]
  },
  {
   "cell_type": "code",
   "execution_count": 35,
   "id": "c5028573-c924-4591-9fc1-5561aada9388",
   "metadata": {},
   "outputs": [
    {
     "name": "stdout",
     "output_type": "stream",
     "text": [
      "\n",
      "📊 Model Performance:\n",
      "                      Accuracy  Precision    Recall  F1-Score\n",
      "Logistic Regression  0.822917   0.800000  1.000000  0.888889\n",
      "SVM                  0.708333   0.708333  1.000000  0.829268\n",
      "Decision Tree        0.708333   0.812500  0.764706  0.787879\n",
      "KNN                  0.802083   0.788235  0.985294  0.875817\n",
      "Random Forest        0.812500   0.797619  0.985294  0.881579\n"
     ]
    }
   ],
   "source": [
    "#  Results Table\n",
    "df_metrics = pd.DataFrame(results).T\n",
    "print(\"\\n📊 Model Performance:\\n\", df_metrics)"
   ]
  },
  {
   "cell_type": "code",
   "execution_count": 36,
   "id": "33f60e80-6f73-4f19-938d-27fc61bdf3ad",
   "metadata": {},
   "outputs": [
    {
     "data": {
      "image/png": "[encoded data removed]",
      "text/plain": [
       "<Figure size 2200x600 with 4 Axes>"
      ]
     },
     "metadata": {},
     "output_type": "display_data"
    }
   ],
   "source": [
    "# Plot Comparison Charts\n",
    "fig, axes = plt.subplots(1, 4, figsize=(22,6))\n",
    "\n",
    "for i, metric in enumerate([\"Accuracy\", \"Precision\", \"Recall\", \"F1-Score\"]):\n",
    "    sns.barplot(x=df_metrics.index, y=df_metrics[metric], ax=axes[i], palette=\"Blues_d\")\n",
    "    best_model = df_metrics[metric].idxmax()\n",
    "    best_value = df_metrics[metric].max()\n",
    "    axes[i].bar(df_metrics.index.get_loc(best_model), best_value, color=\"gold\")\n",
    "    axes[i].set_title(f\"{metric} Comparison\")\n",
    "    axes[i].set_ylabel(metric)\n",
    "    axes[i].set_xlabel(\"Models\")\n",
    "    axes[i].tick_params(axis='x', rotation=45)\n",
    "\n",
    "plt.tight_layout()\n",
    "plt.show()"
   ]
  },
  {
   "cell_type": "code",
   "execution_count": 37,
   "id": "4ae2d79b-bc92-4d28-95e4-114c76d7b8d4",
   "metadata": {},
   "outputs": [
    {
     "name": "stdout",
     "output_type": "stream",
     "text": [
      "\n",
      "🏆 Best Model: Logistic Regression with Accuracy 0.82\n"
     ]
    }
   ],
   "source": [
    "# Select Best Model (by Accuracy here)\n",
    "best_model = df_metrics[\"Accuracy\"].idxmax()\n",
    "best_model_instance = models[best_model]\n",
    "print(f\"\\n🏆 Best Model: {best_model} with Accuracy {df_metrics['Accuracy'].max():.2f}\")"
   ]
  },
  {
   "cell_type": "code",
   "execution_count": 39,
   "id": "98c6d5e5-cf5b-48df-91a3-d866b9b08f84",
   "metadata": {},
   "outputs": [],
   "source": [
    "# Interactive Prediction with Input Validation\n",
    "def get_applicant_input():\n",
    "    print(\"\\n--- Enter New Applicant Details ---\")\n",
    "    try:\n",
    "        Gender = int(input(\"Gender (0=Female, 1=Male): \"))\n",
    "        Married = int(input(\"Married (0=No, 1=Yes): \"))\n",
    "        Dependents = int(input(\"Number of Dependents (0-3): \"))\n",
    "        Education = int(input(\"Education (0=Graduate, 1=Not Graduate): \"))\n",
    "        Self_Employed = int(input(\"Self Employed (0=No, 1=Yes): \"))\n",
    "        ApplicantIncome = float(input(\"Applicant Income: \"))\n",
    "        CoapplicantIncome = float(input(\"Coapplicant Income: \"))\n",
    "        LoanAmount = float(input(\"Loan Amount: \"))\n",
    "        Loan_Amount_Term = float(input(\"Loan Amount Term (in months): \"))\n",
    "        Credit_History = int(input(\"Credit History (0=No, 1=Yes): \"))\n",
    "        Property_Area = int(input(\"Property Area (0=Rural,1=Semiurban,2=Urban): \"))\n",
    "\n",
    "        # Check ranges\n",
    "        if Gender not in [0,1] or Married not in [0,1] or Education not in [0,1] or \\\n",
    "           Self_Employed not in [0,1] or Credit_History not in [0,1] or \\\n",
    "           Property_Area not in [0,1,2] or Dependents not in [0,1,2,3]:\n",
    "            print(\"⚠️ Invalid categorical input! Please try again.\\n\")\n",
    "            return None\n",
    "\n",
    "        # Build dataframe\n",
    "        applicant = pd.DataFrame([[Gender, Married, Dependents, Education, Self_Employed,\n",
    "                                   ApplicantIncome, CoapplicantIncome, LoanAmount,\n",
    "                                   Loan_Amount_Term, Credit_History, Property_Area]],\n",
    "                                 columns=X.columns)\n",
    "\n",
    "        # Scale\n",
    "        applicant_scaled = pd.DataFrame(scaler.transform(applicant), columns=X.columns)\n",
    "        return applicant_scaled\n",
    "\n",
    "    except ValueError:\n",
    "        print(\"⚠️ Invalid input type! Please enter numeric values only.\\n\")\n",
    "        return None"
   ]
  },
  {
   "cell_type": "code",
   "execution_count": 43,
   "id": "31d3478c-dd2f-48bd-8e89-b87f703077d6",
   "metadata": {},
   "outputs": [
    {
     "name": "stdin",
     "output_type": "stream",
     "text": [
      "Gender (0=Male,1=Female):  1\n",
      "Married (0=No,1=Yes):  1\n",
      "Dependents (0,1,2,3):  2\n",
      "Education (0=Graduate,1=Not Graduate):  1\n",
      "Self Employed (0=No,1=Yes):  1\n",
      "Applicant Income:  600000\n",
      "Coapplicant Income:  800000\n",
      "Loan Amount:  500000\n",
      "Loan Amount Term:  15\n",
      "Credit History (0=No,1=Yes):  1\n",
      "Property Area (0=Rural,1=Semiurban,2=Urban):  1\n"
     ]
    },
    {
     "name": "stdout",
     "output_type": "stream",
     "text": [
      "\n",
      "❌ Loan Not Approved for this applicant.\n"
     ]
    }
   ],
   "source": [
    "import pandas as pd\n",
    "\n",
    "# original feature names before encoding\n",
    "raw_features = ['Gender', 'Married', 'Dependents', 'Education', 'Self_Employed',\n",
    "                'ApplicantIncome', 'CoapplicantIncome', 'LoanAmount',\n",
    "                'Loan_Amount_Term', 'Credit_History', 'Property_Area']\n",
    "\n",
    "def get_valid_input(prompt, dtype=int, allowed_values=None):\n",
    "    \"\"\"Utility to get valid typed input\"\"\"\n",
    "    while True:\n",
    "        try:\n",
    "            val = dtype(input(prompt))\n",
    "            if allowed_values is not None and val not in allowed_values:\n",
    "                print(f\"Allowed values are: {allowed_values}\")\n",
    "                continue\n",
    "            return val\n",
    "        except ValueError:\n",
    "            print(f\"Enter a valid {dtype.__name__}\")\n",
    "\n",
    "def get_applicant_input():\n",
    "    \"\"\"Collects raw applicant data, encodes, scales and returns the row ready for prediction\"\"\"\n",
    "    Gender = get_valid_input(\"Gender (0=Male,1=Female): \", int, allowed_values=[0,1])\n",
    "    Married = get_valid_input(\"Married (0=No,1=Yes): \", int, allowed_values=[0,1])\n",
    "    Dependents = get_valid_input(\"Dependents (0,1,2,3): \", int, allowed_values=[0,1,2,3])\n",
    "    Education = get_valid_input(\"Education (0=Graduate,1=Not Graduate): \", int, allowed_values=[0,1])\n",
    "    Self_Employed = get_valid_input(\"Self Employed (0=No,1=Yes): \", int, allowed_values=[0,1])\n",
    "    ApplicantIncome = get_valid_input(\"Applicant Income: \", float)\n",
    "    CoapplicantIncome = get_valid_input(\"Coapplicant Income: \", float)\n",
    "    LoanAmount = get_valid_input(\"Loan Amount: \", float)\n",
    "    Loan_Amount_Term = get_valid_input(\"Loan Amount Term: \", float)\n",
    "    Credit_History = get_valid_input(\"Credit History (0=No,1=Yes): \", int, allowed_values=[0,1])\n",
    "    Property_Area = get_valid_input(\"Property Area (0=Rural,1=Semiurban,2=Urban): \", int, allowed_values=[0,1,2])\n",
    "\n",
    "    # build raw dataframe\n",
    "    applicant_raw = pd.DataFrame([[Gender, Married, Dependents, Education, Self_Employed,\n",
    "                                   ApplicantIncome, CoapplicantIncome, LoanAmount,\n",
    "                                   Loan_Amount_Term, Credit_History, Property_Area]],\n",
    "                                 columns=raw_features)\n",
    "\n",
    "    # encode categorical same as training\n",
    "    applicant_encoded = pd.get_dummies(applicant_raw)\n",
    "\n",
    "    # align columns with training (X.columns)\n",
    "    applicant_encoded = applicant_encoded.reindex(columns=X.columns, fill_value=0)\n",
    "\n",
    "    # scale same as training\n",
    "    applicant_scaled = scaler.transform(applicant_encoded)\n",
    "\n",
    "    return applicant_scaled\n",
    "\n",
    "\n",
    "\n",
    "new_applicant_scaled = get_applicant_input()\n",
    "prediction = model.predict(new_applicant_scaled)[0]   # get single value (0 or 1)\n",
    "\n",
    "\n",
    "if prediction == 1:\n",
    "    print(\"\\n✅ Loan Approved for this applicant.\")\n",
    "else:\n",
    "    print(\"\\n❌ Loan Not Approved for this applicant.\")\n",
    "\n",
    "\n"
   ]
  },
  {
   "cell_type": "code",
   "execution_count": null,
   "id": "32930e92-1619-4a33-9bd9-4a97513e23b2",
   "metadata": {},
   "outputs": [],
   "source": []
  }
 ],
 "metadata": {
  "kernelspec": {
   "display_name": "Python 3 (ipykernel)",
   "language": "python",
   "name": "python3"
  },
  "language_info": {
   "codemirror_mode": {
    "name": "ipython",
    "version": 3
   },
   "file_extension": ".py",
   "mimetype": "text/x-python",
   "name": "python",
   "nbconvert_exporter": "python",
   "pygments_lexer": "ipython3",
   "version": "3.12.7"
  }
 },
 "nbformat": 4,
 "nbformat_minor": 5
}
